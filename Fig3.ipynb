{
 "cells": [
  {
   "cell_type": "code",
   "execution_count": 1,
   "metadata": {},
   "outputs": [],
   "source": [
    "import pandas as pd\n",
    "import numpy as np\n",
    "import scipy.stats as st\n",
    "\n",
    "import matplotlib.pyplot as plt\n",
    "%matplotlib inline"
   ]
  },
  {
   "cell_type": "markdown",
   "metadata": {},
   "source": [
    "## Baseline Dataset"
   ]
  },
  {
   "cell_type": "code",
   "execution_count": 3,
   "metadata": {},
   "outputs": [
    {
     "data": {
      "text/html": [
       "<div>\n",
       "<style scoped>\n",
       "    .dataframe tbody tr th:only-of-type {\n",
       "        vertical-align: middle;\n",
       "    }\n",
       "\n",
       "    .dataframe tbody tr th {\n",
       "        vertical-align: top;\n",
       "    }\n",
       "\n",
       "    .dataframe thead th {\n",
       "        text-align: right;\n",
       "    }\n",
       "</style>\n",
       "<table border=\"1\" class=\"dataframe\">\n",
       "  <thead>\n",
       "    <tr style=\"text-align: right;\">\n",
       "      <th></th>\n",
       "      <th>ID</th>\n",
       "      <th>ACF_512</th>\n",
       "      <th>H</th>\n",
       "      <th>JSD</th>\n",
       "      <th>C</th>\n",
       "      <th>n_components</th>\n",
       "      <th>ACI</th>\n",
       "      <th>Hs</th>\n",
       "      <th>Ha</th>\n",
       "      <th>AEI</th>\n",
       "    </tr>\n",
       "  </thead>\n",
       "  <tbody>\n",
       "    <tr>\n",
       "      <th>0</th>\n",
       "      <td>journal.pone.0004065.s018.flac</td>\n",
       "      <td>[1.0, 0.3159691464939133, -0.19313433219221515...</td>\n",
       "      <td>0.846339</td>\n",
       "      <td>0.354606</td>\n",
       "      <td>0.300117</td>\n",
       "      <td>316</td>\n",
       "      <td>535.872117</td>\n",
       "      <td>0.844463</td>\n",
       "      <td>0.980452</td>\n",
       "      <td>0.827956</td>\n",
       "    </tr>\n",
       "    <tr>\n",
       "      <th>1</th>\n",
       "      <td>journal.pone.0004065.s017.flac</td>\n",
       "      <td>[1.0, 0.9136246623305964, 0.7106019969300389, ...</td>\n",
       "      <td>0.716821</td>\n",
       "      <td>0.566582</td>\n",
       "      <td>0.406138</td>\n",
       "      <td>409</td>\n",
       "      <td>525.876161</td>\n",
       "      <td>0.713769</td>\n",
       "      <td>0.979878</td>\n",
       "      <td>0.699407</td>\n",
       "    </tr>\n",
       "    <tr>\n",
       "      <th>2</th>\n",
       "      <td>journal.pone.0004065.s015.flac</td>\n",
       "      <td>[1.0, 0.06996709008426101, -0.9398546299007356...</td>\n",
       "      <td>0.704638</td>\n",
       "      <td>0.605776</td>\n",
       "      <td>0.426853</td>\n",
       "      <td>425</td>\n",
       "      <td>479.178002</td>\n",
       "      <td>0.704269</td>\n",
       "      <td>0.989265</td>\n",
       "      <td>0.696709</td>\n",
       "    </tr>\n",
       "    <tr>\n",
       "      <th>3</th>\n",
       "      <td>journal.pone.0004065.s013.flac</td>\n",
       "      <td>[1.0, 0.857544569268467, 0.7808859927537377, 0...</td>\n",
       "      <td>0.618595</td>\n",
       "      <td>0.626243</td>\n",
       "      <td>0.387391</td>\n",
       "      <td>400</td>\n",
       "      <td>697.112265</td>\n",
       "      <td>0.613975</td>\n",
       "      <td>0.977368</td>\n",
       "      <td>0.600079</td>\n",
       "    </tr>\n",
       "    <tr>\n",
       "      <th>4</th>\n",
       "      <td>journal.pone.0004065.s014.flac</td>\n",
       "      <td>[1.0, 0.0844259528093256, -0.9226459123449822,...</td>\n",
       "      <td>0.709295</td>\n",
       "      <td>0.593561</td>\n",
       "      <td>0.421010</td>\n",
       "      <td>424</td>\n",
       "      <td>469.874821</td>\n",
       "      <td>0.706308</td>\n",
       "      <td>0.989290</td>\n",
       "      <td>0.698744</td>\n",
       "    </tr>\n",
       "  </tbody>\n",
       "</table>\n",
       "</div>"
      ],
      "text/plain": [
       "                               ID  \\\n",
       "0  journal.pone.0004065.s018.flac   \n",
       "1  journal.pone.0004065.s017.flac   \n",
       "2  journal.pone.0004065.s015.flac   \n",
       "3  journal.pone.0004065.s013.flac   \n",
       "4  journal.pone.0004065.s014.flac   \n",
       "\n",
       "                                             ACF_512         H       JSD  \\\n",
       "0  [1.0, 0.3159691464939133, -0.19313433219221515...  0.846339  0.354606   \n",
       "1  [1.0, 0.9136246623305964, 0.7106019969300389, ...  0.716821  0.566582   \n",
       "2  [1.0, 0.06996709008426101, -0.9398546299007356...  0.704638  0.605776   \n",
       "3  [1.0, 0.857544569268467, 0.7808859927537377, 0...  0.618595  0.626243   \n",
       "4  [1.0, 0.0844259528093256, -0.9226459123449822,...  0.709295  0.593561   \n",
       "\n",
       "          C n_components         ACI        Hs        Ha       AEI  \n",
       "0  0.300117          316  535.872117  0.844463  0.980452  0.827956  \n",
       "1  0.406138          409  525.876161  0.713769  0.979878  0.699407  \n",
       "2  0.426853          425  479.178002  0.704269  0.989265  0.696709  \n",
       "3  0.387391          400  697.112265  0.613975  0.977368  0.600079  \n",
       "4  0.421010          424  469.874821  0.706308  0.989290  0.698744  "
      ]
     },
     "execution_count": 3,
     "metadata": {},
     "output_type": "execute_result"
    }
   ],
   "source": [
    "lag = 512\n",
    "\n",
    "base = pd.read_pickle('./pkl_datasets/baseline_dataset_ACF_' + str(lag) + '.gzip')\n",
    "cotas = pd.read_csv('./boundary_files/Cotas_HxC_bins_' + str(int(lag)) + '.csv')\n",
    "noise = pd.read_csv('./coloredNoises/coloredNoises_' + str(int(lag)) + '.csv')\n",
    "base.head()"
   ]
  },
  {
   "cell_type": "code",
   "execution_count": 4,
   "metadata": {},
   "outputs": [],
   "source": [
    "labels = []\n",
    "for index, row in base.iterrows():\n",
    "    labels.append('$s_{'+(row['ID'].split('.'))[-2].split('0')[-1]+'}$')"
   ]
  },
  {
   "cell_type": "code",
   "execution_count": 6,
   "metadata": {},
   "outputs": [
    {
     "data": {
      "image/png": "[encoded data removed]",
      "text/plain": [
       "<Figure size 1296x216 with 4 Axes>"
      ]
     },
     "metadata": {
      "needs_background": "light"
     },
     "output_type": "display_data"
    }
   ],
   "source": [
    "plt.figure(figsize=(18,3))\n",
    "plt.rc('font', size=16)\n",
    "plt.rc('axes', titlesize=16)\n",
    "\n",
    "plt.subplot(1,4,1)\n",
    "plt.bar(range(0,base.shape[0]),base['H'])\n",
    "plt.xticks(range(0,base.shape[0]),labels)\n",
    "plt.title('H')\n",
    "\n",
    "plt.subplot(1,4,2)\n",
    "plt.bar(range(0,base.shape[0]),base['C'])\n",
    "plt.xticks(range(0,base.shape[0]),labels)\n",
    "plt.title('EGCI')\n",
    "\n",
    "plt.subplot(1,4,3)\n",
    "plt.bar(range(base.shape[0]),base['AEI'])\n",
    "plt.xticks(range(0,base.shape[0]),labels)\n",
    "plt.title('AEI')\n",
    "\n",
    "plt.subplot(1,4,4)\n",
    "plt.bar(range(base.shape[0]),base['ACI'])\n",
    "plt.xticks(range(0,base.shape[0]),labels)\n",
    "plt.title('ACI')\n",
    "\n",
    "plt.show()"
   ]
  },
  {
   "cell_type": "code",
   "execution_count": null,
   "metadata": {},
   "outputs": [],
   "source": []
  }
 ],
 "metadata": {
  "kernelspec": {
   "display_name": "Python 3",
   "language": "python",
   "name": "python3"
  },
  "language_info": {
   "codemirror_mode": {
    "name": "ipython",
    "version": 3
   },
   "file_extension": ".py",
   "mimetype": "text/x-python",
   "name": "python",
   "nbconvert_exporter": "python",
   "pygments_lexer": "ipython3",
   "version": "3.6.9"
  },
  "toc": {
   "nav_menu": {
    "height": "49.1333px",
    "width": "252px"
   },
   "number_sections": true,
   "sideBar": true,
   "skip_h1_title": false,
   "title_cell": "Table of Contents",
   "title_sidebar": "Contents",
   "toc_cell": false,
   "toc_position": {},
   "toc_section_display": "block",
   "toc_window_display": false
  }
 },
 "nbformat": 4,
 "nbformat_minor": 2
}
